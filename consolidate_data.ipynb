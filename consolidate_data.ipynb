{
 "cells": [
  {
   "metadata": {
    "collapsed": true,
    "ExecuteTime": {
     "end_time": "2025-08-26T19:02:59.175303Z",
     "start_time": "2025-08-26T19:02:59.164047Z"
    }
   },
   "cell_type": "markdown",
   "source": "# Consolidate Air Quality Data from Multiple Stations",
   "id": "ca02bc8652bd49f4"
  },
  {
   "metadata": {
    "ExecuteTime": {
     "end_time": "2025-08-26T19:05:14.052658Z",
     "start_time": "2025-08-26T19:05:13.563142Z"
    }
   },
   "cell_type": "code",
   "source": "from aq_edge.datautils.consolidate_air_station_files import consolidate_station_data",
   "id": "df30607f9c2be336",
   "outputs": [
    {
     "name": "stderr",
     "output_type": "stream",
     "text": [
      "[2025-08-26 21:05:14] INFO: Logging to file: D:\\dly\\aq_edge\\artifacts\\consolidate_air_station_files_20250826_210514.log\n"
     ]
    }
   ],
   "execution_count": 1
  },
  {
   "metadata": {
    "ExecuteTime": {
     "end_time": "2025-08-26T19:05:56.723976Z",
     "start_time": "2025-08-26T19:05:56.717946Z"
    }
   },
   "cell_type": "code",
   "source": [
    "data_dir = r'data\\air\\data Estaciones CHSS'#os.path.join(os.path.dirname(__file__), '..', 'data', 'air', 'data Estaciones CHSS')\n",
    "output_dir = r'data\\air'#os.path.join(os.path.dirname(__file__), '..', 'data', 'air')\n",
    "stations = ['APLAN', 'MHH', 'PFM', 'PGB', 'PLIB', 'USAM', 'UTEC']"
   ],
   "id": "875e1226b74b5fae",
   "outputs": [],
   "execution_count": 4
  },
  {
   "metadata": {
    "ExecuteTime": {
     "end_time": "2025-08-26T19:06:05.801091Z",
     "start_time": "2025-08-26T19:05:57.404976Z"
    }
   },
   "cell_type": "code",
   "source": [
    "\n",
    "successful_stations = 0\n",
    "total_stations = len(stations)\n",
    "\n",
    "for station in stations:\n",
    "    if consolidate_station_data(station, data_dir, output_dir):\n",
    "        successful_stations += 1\n"
   ],
   "id": "a36ffe8971ccfeef",
   "outputs": [
    {
     "name": "stderr",
     "output_type": "stream",
     "text": [
      "[2025-08-26 21:05:57] INFO: Processing station: APLAN\n",
      "[2025-08-26 21:05:57] INFO: Found files: APLAN_July_22Ago_2025.csv, APLAN_May-.Jun_2025.xlsx\n",
      "[2025-08-26 21:05:57] INFO: CSV loaded: 3217 rows, columns: ['Timestamp', 'ICA', 'Temp.', 'Hum.', 'CO2', 'VOC']\n",
      "[2025-08-26 21:05:58] INFO: XLSX loaded: 3703 rows, columns: ['Timestamp', 'ICA', 'Temp.', 'Hum.', 'CO2', 'VOC']\n",
      "[2025-08-26 21:05:58] INFO: Combined data: 6920 rows\n",
      "[2025-08-26 21:05:58] INFO: Converting Timestamp to UTC\n",
      "[2025-08-26 21:05:58] INFO: Date range: 2025-05-03 15:08:00+00:00 to 2025-08-22 13:42:00+00:00\n",
      "[2025-08-26 21:05:58] INFO: Saved consolidated file: data\\air\\APLAN.csv\n",
      "[2025-08-26 21:05:58] INFO: Final columns: ['Timestamp', 'ICA', 'Temp.', 'Hum.', 'CO2', 'VOC']\n",
      "[2025-08-26 21:05:58] INFO: Processing station: MHH\n",
      "[2025-08-26 21:05:58] INFO: Found files: MHH_July_22Ago_2025.csv, MHH_May-.Jun_2025.xlsx\n",
      "[2025-08-26 21:05:58] INFO: CSV loaded: 1 rows, columns: ['Timestamp', 'ICA', 'Temp.', 'Hum.', 'CO2', 'VOC']\n",
      "[2025-08-26 21:05:59] INFO: XLSX loaded: 6620 rows, columns: ['Timestamp', 'ICA', 'Temp.', 'Hum.', 'CO2', 'VOC']\n",
      "D:\\dly\\aq_edge\\aq_edge\\datautils\\consolidate_air_station_files.py:239: FutureWarning: The behavior of DataFrame concatenation with empty or all-NA entries is deprecated. In a future version, this will no longer exclude empty or all-NA columns when determining the result dtypes. To retain the old behavior, exclude the relevant entries before the concat operation.\n",
      "  df_all = pd.concat(dfs, ignore_index=True)\n",
      "[2025-08-26 21:05:59] INFO: Combined data: 6621 rows\n",
      "[2025-08-26 21:05:59] INFO: Converting Timestamp to UTC\n",
      "[2025-08-26 21:05:59] INFO: Date range: 2025-05-03 15:02:00+00:00 to 2025-06-18 16:03:00+00:00\n",
      "[2025-08-26 21:05:59] INFO: Saved consolidated file: data\\air\\MHH.csv\n",
      "[2025-08-26 21:05:59] INFO: Final columns: ['Timestamp', 'ICA', 'Temp.', 'Hum.', 'CO2', 'VOC']\n",
      "[2025-08-26 21:05:59] INFO: Processing station: PFM\n",
      "[2025-08-26 21:05:59] INFO: Found files: PFM_July_22Ago_2025.csv, PFM_May-.Jun_2025.xlsx\n",
      "[2025-08-26 21:05:59] INFO: CSV loaded: 2847 rows, columns: ['Timestamp', 'ICA', 'Temp.', 'Hum.', 'CO2', 'VOC']\n",
      "[2025-08-26 21:05:59] INFO: XLSX loaded: 2064 rows, columns: ['Timestamp', 'ICA', 'Temp.', 'Hum.', 'CO2', 'VOC']\n",
      "[2025-08-26 21:05:59] INFO: Combined data: 4911 rows\n",
      "[2025-08-26 21:05:59] INFO: Converting Timestamp to UTC\n",
      "[2025-08-26 21:05:59] INFO: Date range: 2025-05-06 21:50:00+00:00 to 2025-08-21 16:52:00+00:00\n",
      "[2025-08-26 21:05:59] INFO: Saved consolidated file: data\\air\\PFM.csv\n",
      "[2025-08-26 21:05:59] INFO: Final columns: ['Timestamp', 'ICA', 'Temp.', 'Hum.', 'CO2', 'VOC']\n",
      "[2025-08-26 21:05:59] INFO: Processing station: PGB\n",
      "[2025-08-26 21:05:59] INFO: Found files: PGB_July_22Ago_2025.csv, PGB_May-.Jun_2025.xlsx\n",
      "[2025-08-26 21:05:59] INFO: CSV loaded: 11656 rows, columns: ['Timestamp', 'ICA', 'Temp.', 'Hum.', 'CO2', 'VOC']\n",
      "[2025-08-26 21:06:01] INFO: XLSX loaded: 9502 rows, columns: ['Timestamp', 'ICA', 'Temp.', 'Hum.', 'CO2', 'VOC']\n",
      "[2025-08-26 21:06:01] INFO: Combined data: 21158 rows\n",
      "[2025-08-26 21:06:01] INFO: Converting Timestamp to UTC\n",
      "[2025-08-26 21:06:01] INFO: Removed 684 duplicate timestamps\n",
      "[2025-08-26 21:06:01] INFO: Date range: 2025-05-03 15:06:00+00:00 to 2025-08-22 13:55:00+00:00\n",
      "[2025-08-26 21:06:01] INFO: Saved consolidated file: data\\air\\PGB.csv\n",
      "[2025-08-26 21:06:01] INFO: Final columns: ['Timestamp', 'ICA', 'Temp.', 'Hum.', 'CO2', 'VOC']\n",
      "[2025-08-26 21:06:01] INFO: Processing station: PLIB\n",
      "[2025-08-26 21:06:01] INFO: Found files: PLIB__July_22Ago_2025.csv, PLIB_May-.Jun_2025.xlsx\n",
      "[2025-08-26 21:06:01] INFO: CSV loaded: 9364 rows, columns: ['Timestamp', 'ICA', 'Temp.', 'Hum.', 'CO2', 'VOC']\n",
      "[2025-08-26 21:06:03] INFO: XLSX loaded: 14034 rows, columns: ['Timestamp', 'ICA', 'Temp.', 'Hum.', 'CO2', 'VOC']\n",
      "[2025-08-26 21:06:03] INFO: Combined data: 23398 rows\n",
      "[2025-08-26 21:06:03] INFO: Converting Timestamp to UTC\n",
      "[2025-08-26 21:06:03] INFO: Removed 3797 duplicate timestamps\n",
      "[2025-08-26 21:06:03] INFO: Date range: 2025-05-03 15:08:00+00:00 to 2025-08-20 20:31:00+00:00\n",
      "[2025-08-26 21:06:03] INFO: Saved consolidated file: data\\air\\PLIB.csv\n",
      "[2025-08-26 21:06:03] INFO: Final columns: ['Timestamp', 'ICA', 'Temp.', 'Hum.', 'CO2', 'VOC']\n",
      "[2025-08-26 21:06:03] INFO: Processing station: USAM\n",
      "[2025-08-26 21:06:03] INFO: Found files: USAM__July_22Ago_2025.csv, USAM_May-.Jun_2025.xlsx\n",
      "[2025-08-26 21:06:03] INFO: CSV loaded: 26388 rows, columns: ['Timestamp', 'ICA', 'CO2', 'VOC', 'Temp.', 'Hum.']\n",
      "[2025-08-26 21:06:04] INFO: XLSX loaded: 7085 rows, columns: ['Timestamp', 'ICA', 'CO2', 'VOC', 'Temp.', 'Hum.']\n",
      "[2025-08-26 21:06:04] INFO: Combined data: 33473 rows\n",
      "[2025-08-26 21:06:04] INFO: Converting Timestamp to UTC\n",
      "[2025-08-26 21:06:04] INFO: Removed 22 duplicate timestamps\n",
      "[2025-08-26 21:06:04] INFO: Date range: 2025-05-07 13:11:00+00:00 to 2025-08-22 15:47:00+00:00\n",
      "[2025-08-26 21:06:05] INFO: Saved consolidated file: data\\air\\USAM.csv\n",
      "[2025-08-26 21:06:05] INFO: Final columns: ['Timestamp', 'ICA', 'CO2', 'VOC', 'Temp.', 'Hum.']\n",
      "[2025-08-26 21:06:05] INFO: Processing station: UTEC\n",
      "[2025-08-26 21:06:05] INFO: Found files: UTEC_July_22Ago_2025.csv, UTEC_May-.Jun_2025.xlsx\n",
      "[2025-08-26 21:06:05] INFO: CSV loaded: 5294 rows, columns: ['Timestamp', 'ICA', 'Temp.', 'Hum.', 'CO2', 'VOC']\n",
      "[2025-08-26 21:06:05] INFO: XLSX loaded: 4791 rows, columns: ['Timestamp', 'ICA', 'Temp.', 'Hum.', 'CO2', 'VOC']\n",
      "[2025-08-26 21:06:05] INFO: Combined data: 10085 rows\n",
      "[2025-08-26 21:06:05] INFO: Converting Timestamp to UTC\n",
      "[2025-08-26 21:06:05] INFO: Date range: 2025-05-03 15:06:00+00:00 to 2025-08-08 09:13:00+00:00\n",
      "[2025-08-26 21:06:05] INFO: Saved consolidated file: data\\air\\UTEC.csv\n",
      "[2025-08-26 21:06:05] INFO: Final columns: ['Timestamp', 'ICA', 'Temp.', 'Hum.', 'CO2', 'VOC']\n"
     ]
    }
   ],
   "execution_count": 5
  },
  {
   "metadata": {},
   "cell_type": "code",
   "outputs": [],
   "execution_count": null,
   "source": "",
   "id": "d268d5bf78d79eb8"
  }
 ],
 "metadata": {
  "kernelspec": {
   "display_name": "Python 3",
   "language": "python",
   "name": "python3"
  },
  "language_info": {
   "codemirror_mode": {
    "name": "ipython",
    "version": 2
   },
   "file_extension": ".py",
   "mimetype": "text/x-python",
   "name": "python",
   "nbconvert_exporter": "python",
   "pygments_lexer": "ipython2",
   "version": "2.7.6"
  }
 },
 "nbformat": 4,
 "nbformat_minor": 5
}
