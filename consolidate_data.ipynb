{
 "cells": [
  {
   "metadata": {
    "collapsed": true,
    "ExecuteTime": {
     "end_time": "2025-08-26T19:02:59.175303Z",
     "start_time": "2025-08-26T19:02:59.164047Z"
    }
   },
   "cell_type": "markdown",
   "source": "# Consolidate Air Quality Data from Multiple Stations",
   "id": "ca02bc8652bd49f4"
  },
  {
   "metadata": {
    "ExecuteTime": {
     "end_time": "2025-09-10T18:53:19.465781Z",
     "start_time": "2025-09-10T18:53:19.461229Z"
    }
   },
   "cell_type": "code",
   "source": "from aq_edge.datautils.consolidate_air_station_files import consolidate_station_data",
   "id": "df30607f9c2be336",
   "outputs": [],
   "execution_count": 7
  },
  {
   "metadata": {
    "ExecuteTime": {
     "end_time": "2025-09-10T18:53:20.298932Z",
     "start_time": "2025-09-10T18:53:20.291820Z"
    }
   },
   "cell_type": "code",
   "source": [
    "data_dir = r'data\\air\\data Estaciones CHSS'#os.path.join(os.path.dirname(__file__), '..', 'data', 'air', 'data Estaciones CHSS')\n",
    "output_dir = r'data\\air\\consolidated'#os.path.join(os.path.dirname(__file__), '..', 'data', 'air')\n",
    "stations = ['APLAN', 'MHH', 'PFM', 'PGB', 'PLIB', 'USAM', 'UTEC']"
   ],
   "id": "875e1226b74b5fae",
   "outputs": [],
   "execution_count": 8
  },
  {
   "metadata": {
    "ExecuteTime": {
     "end_time": "2025-09-10T18:53:29.730214Z",
     "start_time": "2025-09-10T18:53:21.012082Z"
    }
   },
   "cell_type": "code",
   "source": [
    "\n",
    "successful_stations = 0\n",
    "total_stations = len(stations)\n",
    "\n",
    "for station in stations:\n",
    "    if consolidate_station_data(station, data_dir, output_dir):\n",
    "        successful_stations += 1\n"
   ],
   "id": "a36ffe8971ccfeef",
   "outputs": [
    {
     "name": "stderr",
     "output_type": "stream",
     "text": [
      "[2025-09-10 20:53:21] INFO: Processing station: APLAN\n",
      "[2025-09-10 20:53:21] INFO: Found files: APLAN_agosto_2025.csv, APLAN_May-.Jun_2025.xlsx\n",
      "[2025-09-10 20:53:21] INFO: CSV loaded: 1574 rows, columns: ['Timestamp', 'ICA', 'TEM', 'HUM', 'CO2', 'VOC']\n",
      "[2025-09-10 20:53:21] INFO: XLSX loaded: 3703 rows, columns: ['Timestamp', 'ICA', 'TEM', 'HUM', 'CO2', 'VOC']\n",
      "[2025-09-10 20:53:21] INFO: Combined data: 5277 rows\n",
      "[2025-09-10 20:53:21] INFO: Converting Timestamp to UTC\n",
      "[2025-09-10 20:53:21] INFO: Date range: 2025-05-03 15:08:00+00:00 to 2025-08-31 23:13:00+00:00\n",
      "[2025-09-10 20:53:21] INFO: Saved consolidated file: data\\air\\consolidated\\APLAN.csv\n",
      "[2025-09-10 20:53:21] INFO: Final columns: ['Timestamp', 'ICA', 'TEM', 'HUM', 'CO2', 'VOC']\n",
      "[2025-09-10 20:53:21] INFO: Processing station: MHH\n",
      "[2025-09-10 20:53:21] INFO: Found files: MHH_agosto_2025.csv, MHH_May-.Jun_2025.xlsx\n",
      "[2025-09-10 20:53:21] INFO: CSV loaded: 1 rows, columns: ['Timestamp', 'ICA', 'TEM', 'HUM', 'CO2', 'VOC']\n",
      "[2025-09-10 20:53:22] INFO: XLSX loaded: 6620 rows, columns: ['Timestamp', 'ICA', 'TEM', 'HUM', 'CO2', 'VOC']\n",
      "D:\\dly\\aq_edge\\aq_edge\\datautils\\consolidate_air_station_files.py:251: FutureWarning: The behavior of DataFrame concatenation with empty or all-NA entries is deprecated. In a future version, this will no longer exclude empty or all-NA columns when determining the result dtypes. To retain the old behavior, exclude the relevant entries before the concat operation.\n",
      "  df_all = pd.concat(dfs, ignore_index=True)\n",
      "[2025-09-10 20:53:22] INFO: Combined data: 6621 rows\n",
      "[2025-09-10 20:53:22] INFO: Converting Timestamp to UTC\n",
      "[2025-09-10 20:53:22] INFO: Date range: 2025-05-03 15:02:00+00:00 to 2025-06-18 16:03:00+00:00\n",
      "[2025-09-10 20:53:22] INFO: Saved consolidated file: data\\air\\consolidated\\MHH.csv\n",
      "[2025-09-10 20:53:22] INFO: Final columns: ['Timestamp', 'ICA', 'TEM', 'HUM', 'CO2', 'VOC']\n",
      "[2025-09-10 20:53:22] INFO: Processing station: PFM\n",
      "[2025-09-10 20:53:22] INFO: Found files: PFM_agosto_2025.csv, PFM_May-.Jun_2025.xlsx\n",
      "[2025-09-10 20:53:22] INFO: CSV loaded: 1268 rows, columns: ['Timestamp', 'ICA', 'TEM', 'HUM', 'CO2', 'VOC']\n",
      "[2025-09-10 20:53:23] INFO: XLSX loaded: 2064 rows, columns: ['Timestamp', 'ICA', 'TEM', 'HUM', 'CO2', 'VOC']\n",
      "[2025-09-10 20:53:23] INFO: Combined data: 3332 rows\n",
      "[2025-09-10 20:53:23] INFO: Converting Timestamp to UTC\n",
      "[2025-09-10 20:53:23] INFO: Date range: 2025-05-06 21:50:00+00:00 to 2025-08-27 13:31:00+00:00\n",
      "[2025-09-10 20:53:23] INFO: Saved consolidated file: data\\air\\consolidated\\PFM.csv\n",
      "[2025-09-10 20:53:23] INFO: Final columns: ['Timestamp', 'ICA', 'TEM', 'HUM', 'CO2', 'VOC']\n",
      "[2025-09-10 20:53:23] INFO: Processing station: PGB\n",
      "[2025-09-10 20:53:23] INFO: Found files: PGB_agosto_2025.csv, PGB_May-.Jun_2025.xlsx\n",
      "[2025-09-10 20:53:23] INFO: CSV loaded: 10207 rows, columns: ['Timestamp', 'ICA', 'TEM', 'HUM', 'CO2', 'VOC']\n",
      "[2025-09-10 20:53:24] INFO: XLSX loaded: 9502 rows, columns: ['Timestamp', 'ICA', 'TEM', 'HUM', 'CO2', 'VOC']\n",
      "[2025-09-10 20:53:24] INFO: Combined data: 19709 rows\n",
      "[2025-09-10 20:53:24] INFO: Converting Timestamp to UTC\n",
      "[2025-09-10 20:53:24] INFO: Removed 1175 duplicate timestamps\n",
      "[2025-09-10 20:53:24] INFO: Date range: 2025-05-03 15:06:00+00:00 to 2025-08-31 23:59:00+00:00\n",
      "[2025-09-10 20:53:24] INFO: Saved consolidated file: data\\air\\consolidated\\PGB.csv\n",
      "[2025-09-10 20:53:24] INFO: Final columns: ['Timestamp', 'ICA', 'TEM', 'HUM', 'CO2', 'VOC']\n",
      "[2025-09-10 20:53:24] INFO: Processing station: PLIB\n",
      "[2025-09-10 20:53:24] INFO: Found files: PLIB_agosto_2025.csv, PLIB_May-.Jun_2025.xlsx\n",
      "[2025-09-10 20:53:24] INFO: CSV loaded: 1682 rows, columns: ['Timestamp', 'ICA', 'TEM', 'HUM', 'CO2', 'VOC']\n",
      "[2025-09-10 20:53:26] INFO: XLSX loaded: 14034 rows, columns: ['Timestamp', 'ICA', 'TEM', 'HUM', 'CO2', 'VOC']\n",
      "[2025-09-10 20:53:26] INFO: Combined data: 15716 rows\n",
      "[2025-09-10 20:53:26] INFO: Converting Timestamp to UTC\n",
      "[2025-09-10 20:53:26] INFO: Removed 2388 duplicate timestamps\n",
      "[2025-09-10 20:53:27] INFO: Date range: 2025-05-03 15:08:00+00:00 to 2025-08-20 20:31:00+00:00\n",
      "[2025-09-10 20:53:27] INFO: Saved consolidated file: data\\air\\consolidated\\PLIB.csv\n",
      "[2025-09-10 20:53:27] INFO: Final columns: ['Timestamp', 'ICA', 'TEM', 'HUM', 'CO2', 'VOC']\n",
      "[2025-09-10 20:53:27] INFO: Processing station: USAM\n",
      "[2025-09-10 20:53:27] INFO: Found files: USAM_agosto_2025.csv, USAM_May-.Jun_2025.xlsx\n",
      "[2025-09-10 20:53:27] INFO: CSV loaded: 16015 rows, columns: ['Timestamp', 'ICA', 'CO2', 'VOC', 'TEM', 'HUM']\n",
      "[2025-09-10 20:53:28] INFO: XLSX loaded: 7085 rows, columns: ['Timestamp', 'ICA', 'CO2', 'VOC', 'TEM', 'HUM']\n",
      "[2025-09-10 20:53:28] INFO: Combined data: 23100 rows\n",
      "[2025-09-10 20:53:28] INFO: Converting Timestamp to UTC\n",
      "[2025-09-10 20:53:28] INFO: Removed 23 duplicate timestamps\n",
      "[2025-09-10 20:53:28] INFO: Date range: 2025-05-07 13:11:00+00:00 to 2025-08-31 23:59:00+00:00\n",
      "[2025-09-10 20:53:28] INFO: Saved consolidated file: data\\air\\consolidated\\USAM.csv\n",
      "[2025-09-10 20:53:28] INFO: Final columns: ['Timestamp', 'ICA', 'CO2', 'VOC', 'TEM', 'HUM']\n",
      "[2025-09-10 20:53:28] INFO: Processing station: UTEC\n",
      "[2025-09-10 20:53:28] INFO: Found files: UTEC_agosto_2025.csv, UTEC_May-.Jun_2025.xlsx\n",
      "[2025-09-10 20:53:28] INFO: CSV loaded: 1964 rows, columns: ['Timestamp', 'ICA', 'TEM', 'HUM', 'CO2', 'VOC']\n",
      "[2025-09-10 20:53:29] INFO: XLSX loaded: 4791 rows, columns: ['Timestamp', 'ICA', 'TEM', 'HUM', 'CO2', 'VOC']\n",
      "[2025-09-10 20:53:29] INFO: Combined data: 6755 rows\n",
      "[2025-09-10 20:53:29] INFO: Converting Timestamp to UTC\n",
      "[2025-09-10 20:53:29] INFO: Date range: 2025-05-03 15:06:00+00:00 to 2025-08-31 23:58:00+00:00\n",
      "[2025-09-10 20:53:29] INFO: Saved consolidated file: data\\air\\consolidated\\UTEC.csv\n",
      "[2025-09-10 20:53:29] INFO: Final columns: ['Timestamp', 'ICA', 'TEM', 'HUM', 'CO2', 'VOC']\n"
     ]
    }
   ],
   "execution_count": 9
  },
  {
   "metadata": {},
   "cell_type": "code",
   "outputs": [],
   "execution_count": null,
   "source": "",
   "id": "d268d5bf78d79eb8"
  }
 ],
 "metadata": {
  "kernelspec": {
   "display_name": "Python 3",
   "language": "python",
   "name": "python3"
  },
  "language_info": {
   "codemirror_mode": {
    "name": "ipython",
    "version": 2
   },
   "file_extension": ".py",
   "mimetype": "text/x-python",
   "name": "python",
   "nbconvert_exporter": "python",
   "pygments_lexer": "ipython2",
   "version": "2.7.6"
  }
 },
 "nbformat": 4,
 "nbformat_minor": 5
}
